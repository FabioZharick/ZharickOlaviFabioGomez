{
 "cells": [
  {
   "cell_type": "code",
   "execution_count": 1,
   "id": "119b20e1",
   "metadata": {},
   "outputs": [],
   "source": [
    "import numpy as np\n",
    "import matplotlib.pyplot as plt\n",
    "import sympy as sym"
   ]
  },
  {
   "cell_type": "code",
   "execution_count": 28,
   "id": "f2a74747",
   "metadata": {},
   "outputs": [],
   "source": [
    "#Definimos las constantes del problema\n",
    "k            = 5 \n",
    "l            = 3 \n",
    "m            = 2 \n",
    "g            = 9.8 \n",
    "r0           = 15\n",
    "theta0       = np.pi/8\n",
    "r0_punto     = 0\n",
    "theta0_punto = 0\n",
    "N            = 2001\n",
    "h            = 0.015\n",
    "t = np.linspace(0, 30, int((30/h)))"
   ]
  },
  {
   "cell_type": "code",
   "execution_count": 29,
   "id": "513a1afa",
   "metadata": {},
   "outputs": [],
   "source": [
    "# Planteamos nuestro sistema de ecuaciones\n",
    "def darfunciones(r_, theta_, rPunto_, thetaPunto_):\n",
    "    r_dosPuntos     = ((k/m)*(l-r_)) + (g*np.cos(theta_)) + (r_*(thetaPunto_**2))\n",
    "    theta_dosPuntos = (-(g/r_)*np.sin(theta_)) - ((2*rPunto_*thetaPunto_)/r_)\n",
    "    return r_dosPuntos, theta_dosPuntos"
   ]
  },
  {
   "cell_type": "code",
   "execution_count": 30,
   "id": "a1ecdca4",
   "metadata": {},
   "outputs": [],
   "source": [
    "# Metodo de euler para encontrar puntos pasados\n",
    "def euler(x_):\n",
    "    # i = 1 porque solo necesitamos un paso pasado \n",
    "    xpasado = x_[0] - h   \n",
    "    ypasado = x_[1] - h\n",
    "    return xpasado, ypasado"
   ]
  },
  {
   "cell_type": "code",
   "execution_count": 65,
   "id": "0e01885a",
   "metadata": {},
   "outputs": [],
   "source": [
    "def predictorBeeman(rn, vn, p_, rn_menos1, tn_menos1, vrn_menos1, vtn_menos1):\n",
    "    if p_ == 0:\n",
    "        #Paso anterior\n",
    "        rn_1 = euler(rn)\n",
    "        vn_1 = euler(vn)\n",
    "    else:\n",
    "        rn_1 = np.array([rn_menos1, tn_menos1 ])\n",
    "        vn_1 = np.array([vrn_menos1, vtn_menos1 ])\n",
    "    \n",
    "    #Predidctor\n",
    "    rn1 = rn + h*vn + ((h**2)/6)((4*darfunciones(rn[0], rn[1], vn[0], vn[1]))-darfunciones(rn_1[0], rn_1[1], vn_1[0], vn_1[1]))\n",
    "    vn1 = vn + 0.5*((3*darfunciones(rn[0], rn[1], vn[0], vn[1]))- darfunciones(rn_1[0], rn_1[1], vn_1[0], vn_1[1]))\n",
    "    \n",
    "    #corrector\n",
    "    vn1 = vn + (h/12)*((5*darfunciones(rn1[0], rn1[1], vn1[0], vn1[1]))+(8*darfunciones(rn[0], rn[1], vn[0], vn[1]))- darfunciones(rn_1[0], rn_1[1], vn_1[0], vn_1[1]))\n",
    "    return rn1[0], rn1[1], vn1[0], vn1[1]"
   ]
  },
  {
   "cell_type": "code",
   "execution_count": null,
   "id": "98f9b6f1",
   "metadata": {},
   "outputs": [],
   "source": []
  },
  {
   "cell_type": "code",
   "execution_count": 66,
   "id": "1003d7bb",
   "metadata": {},
   "outputs": [],
   "source": [
    "def darSol():\n",
    "    Rsol  = np.zeros(len(t)) # solucion para r\n",
    "    Tsol  = np.zeros(len(t)) # solucion par theta\n",
    "    RPsol = np.zeros(len(t))\n",
    "    TPsol = np.zeros(len(t))\n",
    "    \n",
    "    # Condiciones iniciales\n",
    "    Rsol[0]  = r0\n",
    "    Tsol[0]  = theta0\n",
    "    RPsol[0] = r0_punto \n",
    "    TPsol[0] = theta0_punto\n",
    "    \n",
    "    Rsol[1]  = predictorBeeman([Rsol[0], Tsol[0]], [RPsol[0], TPsol[0]], 0, 0,0,0,0)[0]\n",
    "    Tsol[1]  = predictorBeeman([Rsol[0], Tsol[0]], [RPsol[0], TPsol[0]], 0, 0,0,0,0)[1]\n",
    "    RPsol[1] = predictorBeeman([Rsol[0], Tsol[0]], [RPsol[0], TPsol[0]], 0, 0,0,0,0)[2]\n",
    "    TPsol[1] = predictorBeeman([Rsol[0], Tsol[0]], [RPsol[0], TPsol[0]], 0, 0,0,0,0)[3]\n",
    "    \n",
    "    for i in range(1, len(t)):\n",
    "        rn = np.array([Rsol[i], Tsol[i]])\n",
    "        vn = np.array([RPsol[i], TPsol[i]])\n",
    "        \n",
    "        rr = predictorBeeman(rn, vn, i, Rsol[i-1], Tsol[i-1], RPsol[i-1], TPsol[i-1])[0]\n",
    "        rt = predictorBeeman(rn, vn, i, Rsol[i-1], Tsol[i-1], RPsol[i-1], TPsol[i-1])[1]\n",
    "        vr = predictorBeeman(rn, vn, i, Rsol[i-1], Tsol[i-1], RPsol[i-1], TPsol[i-1])[2]\n",
    "        vt = predictorBeeman(rn, vn, i, Rsol[i-1], Tsol[i-1], RPsol[i-1], TPsol[i-1])[3]\n",
    "        Rsol  = np.append(Rsol,  rr)\n",
    "        Tsol  = np.append(Tsol,  rt)\n",
    "        RPsol = np.append(RPsol, vr)\n",
    "        TPsol = np.append(TPsol, vt)\n",
    "    return Rsol, Tsol, RPsol, TPsol\n"
   ]
  },
  {
   "cell_type": "code",
   "execution_count": 67,
   "id": "8e85f392",
   "metadata": {},
   "outputs": [
    {
     "ename": "TypeError",
     "evalue": "can't multiply sequence by non-int of type 'float'",
     "output_type": "error",
     "traceback": [
      "\u001b[1;31m---------------------------------------------------------------------------\u001b[0m",
      "\u001b[1;31mTypeError\u001b[0m                                 Traceback (most recent call last)",
      "\u001b[1;32mC:\\Users\\FABIOM~1\\AppData\\Local\\Temp/ipykernel_3008/1151686247.py\u001b[0m in \u001b[0;36m<module>\u001b[1;34m\u001b[0m\n\u001b[1;32m----> 1\u001b[1;33m \u001b[0mSolucion\u001b[0m \u001b[1;33m=\u001b[0m \u001b[0mdarSol\u001b[0m\u001b[1;33m(\u001b[0m\u001b[1;33m)\u001b[0m\u001b[1;33m\u001b[0m\u001b[1;33m\u001b[0m\u001b[0m\n\u001b[0m",
      "\u001b[1;32mC:\\Users\\FABIOM~1\\AppData\\Local\\Temp/ipykernel_3008/3175193893.py\u001b[0m in \u001b[0;36mdarSol\u001b[1;34m()\u001b[0m\n\u001b[0;32m     11\u001b[0m     \u001b[0mTPsol\u001b[0m\u001b[1;33m[\u001b[0m\u001b[1;36m0\u001b[0m\u001b[1;33m]\u001b[0m \u001b[1;33m=\u001b[0m \u001b[0mtheta0_punto\u001b[0m\u001b[1;33m\u001b[0m\u001b[1;33m\u001b[0m\u001b[0m\n\u001b[0;32m     12\u001b[0m \u001b[1;33m\u001b[0m\u001b[0m\n\u001b[1;32m---> 13\u001b[1;33m     \u001b[0mRsol\u001b[0m\u001b[1;33m[\u001b[0m\u001b[1;36m1\u001b[0m\u001b[1;33m]\u001b[0m  \u001b[1;33m=\u001b[0m \u001b[0mpredictorBeeman\u001b[0m\u001b[1;33m(\u001b[0m\u001b[1;33m[\u001b[0m\u001b[0mRsol\u001b[0m\u001b[1;33m[\u001b[0m\u001b[1;36m0\u001b[0m\u001b[1;33m]\u001b[0m\u001b[1;33m,\u001b[0m \u001b[0mTsol\u001b[0m\u001b[1;33m[\u001b[0m\u001b[1;36m0\u001b[0m\u001b[1;33m]\u001b[0m\u001b[1;33m]\u001b[0m\u001b[1;33m,\u001b[0m \u001b[1;33m[\u001b[0m\u001b[0mRPsol\u001b[0m\u001b[1;33m[\u001b[0m\u001b[1;36m0\u001b[0m\u001b[1;33m]\u001b[0m\u001b[1;33m,\u001b[0m \u001b[0mTPsol\u001b[0m\u001b[1;33m[\u001b[0m\u001b[1;36m0\u001b[0m\u001b[1;33m]\u001b[0m\u001b[1;33m]\u001b[0m\u001b[1;33m,\u001b[0m \u001b[1;36m0\u001b[0m\u001b[1;33m,\u001b[0m \u001b[1;36m0\u001b[0m\u001b[1;33m,\u001b[0m\u001b[1;36m0\u001b[0m\u001b[1;33m,\u001b[0m\u001b[1;36m0\u001b[0m\u001b[1;33m,\u001b[0m\u001b[1;36m0\u001b[0m\u001b[1;33m)\u001b[0m\u001b[1;33m[\u001b[0m\u001b[1;36m0\u001b[0m\u001b[1;33m]\u001b[0m\u001b[1;33m\u001b[0m\u001b[1;33m\u001b[0m\u001b[0m\n\u001b[0m\u001b[0;32m     14\u001b[0m     \u001b[0mTsol\u001b[0m\u001b[1;33m[\u001b[0m\u001b[1;36m1\u001b[0m\u001b[1;33m]\u001b[0m  \u001b[1;33m=\u001b[0m \u001b[0mpredictorBeeman\u001b[0m\u001b[1;33m(\u001b[0m\u001b[1;33m[\u001b[0m\u001b[0mRsol\u001b[0m\u001b[1;33m[\u001b[0m\u001b[1;36m0\u001b[0m\u001b[1;33m]\u001b[0m\u001b[1;33m,\u001b[0m \u001b[0mTsol\u001b[0m\u001b[1;33m[\u001b[0m\u001b[1;36m0\u001b[0m\u001b[1;33m]\u001b[0m\u001b[1;33m]\u001b[0m\u001b[1;33m,\u001b[0m \u001b[1;33m[\u001b[0m\u001b[0mRPsol\u001b[0m\u001b[1;33m[\u001b[0m\u001b[1;36m0\u001b[0m\u001b[1;33m]\u001b[0m\u001b[1;33m,\u001b[0m \u001b[0mTPsol\u001b[0m\u001b[1;33m[\u001b[0m\u001b[1;36m0\u001b[0m\u001b[1;33m]\u001b[0m\u001b[1;33m]\u001b[0m\u001b[1;33m,\u001b[0m \u001b[1;36m0\u001b[0m\u001b[1;33m,\u001b[0m \u001b[1;36m0\u001b[0m\u001b[1;33m,\u001b[0m\u001b[1;36m0\u001b[0m\u001b[1;33m,\u001b[0m\u001b[1;36m0\u001b[0m\u001b[1;33m,\u001b[0m\u001b[1;36m0\u001b[0m\u001b[1;33m)\u001b[0m\u001b[1;33m[\u001b[0m\u001b[1;36m1\u001b[0m\u001b[1;33m]\u001b[0m\u001b[1;33m\u001b[0m\u001b[1;33m\u001b[0m\u001b[0m\n\u001b[0;32m     15\u001b[0m     \u001b[0mRPsol\u001b[0m\u001b[1;33m[\u001b[0m\u001b[1;36m1\u001b[0m\u001b[1;33m]\u001b[0m \u001b[1;33m=\u001b[0m \u001b[0mpredictorBeeman\u001b[0m\u001b[1;33m(\u001b[0m\u001b[1;33m[\u001b[0m\u001b[0mRsol\u001b[0m\u001b[1;33m[\u001b[0m\u001b[1;36m0\u001b[0m\u001b[1;33m]\u001b[0m\u001b[1;33m,\u001b[0m \u001b[0mTsol\u001b[0m\u001b[1;33m[\u001b[0m\u001b[1;36m0\u001b[0m\u001b[1;33m]\u001b[0m\u001b[1;33m]\u001b[0m\u001b[1;33m,\u001b[0m \u001b[1;33m[\u001b[0m\u001b[0mRPsol\u001b[0m\u001b[1;33m[\u001b[0m\u001b[1;36m0\u001b[0m\u001b[1;33m]\u001b[0m\u001b[1;33m,\u001b[0m \u001b[0mTPsol\u001b[0m\u001b[1;33m[\u001b[0m\u001b[1;36m0\u001b[0m\u001b[1;33m]\u001b[0m\u001b[1;33m]\u001b[0m\u001b[1;33m,\u001b[0m \u001b[1;36m0\u001b[0m\u001b[1;33m,\u001b[0m \u001b[1;36m0\u001b[0m\u001b[1;33m,\u001b[0m\u001b[1;36m0\u001b[0m\u001b[1;33m,\u001b[0m\u001b[1;36m0\u001b[0m\u001b[1;33m,\u001b[0m\u001b[1;36m0\u001b[0m\u001b[1;33m)\u001b[0m\u001b[1;33m[\u001b[0m\u001b[1;36m2\u001b[0m\u001b[1;33m]\u001b[0m\u001b[1;33m\u001b[0m\u001b[1;33m\u001b[0m\u001b[0m\n",
      "\u001b[1;32mC:\\Users\\FABIOM~1\\AppData\\Local\\Temp/ipykernel_3008/4190177092.py\u001b[0m in \u001b[0;36mpredictorBeeman\u001b[1;34m(rn, vn, p_, rn_menos1, tn_menos1, vrn_menos1, vtn_menos1)\u001b[0m\n\u001b[0;32m      9\u001b[0m \u001b[1;33m\u001b[0m\u001b[0m\n\u001b[0;32m     10\u001b[0m     \u001b[1;31m#Predidctor\u001b[0m\u001b[1;33m\u001b[0m\u001b[1;33m\u001b[0m\u001b[0m\n\u001b[1;32m---> 11\u001b[1;33m     \u001b[0mrn1\u001b[0m \u001b[1;33m=\u001b[0m \u001b[0mrn\u001b[0m \u001b[1;33m+\u001b[0m \u001b[0mh\u001b[0m\u001b[1;33m*\u001b[0m\u001b[0mvn\u001b[0m \u001b[1;33m+\u001b[0m \u001b[0mnp\u001b[0m\u001b[1;33m.\u001b[0m\u001b[0mdot\u001b[0m\u001b[1;33m(\u001b[0m\u001b[1;33m(\u001b[0m\u001b[1;33m(\u001b[0m\u001b[1;33m(\u001b[0m\u001b[1;36m4\u001b[0m\u001b[1;33m*\u001b[0m\u001b[0mdarfunciones\u001b[0m\u001b[1;33m(\u001b[0m\u001b[0mrn\u001b[0m\u001b[1;33m[\u001b[0m\u001b[1;36m0\u001b[0m\u001b[1;33m]\u001b[0m\u001b[1;33m,\u001b[0m \u001b[0mrn\u001b[0m\u001b[1;33m[\u001b[0m\u001b[1;36m1\u001b[0m\u001b[1;33m]\u001b[0m\u001b[1;33m,\u001b[0m \u001b[0mvn\u001b[0m\u001b[1;33m[\u001b[0m\u001b[1;36m0\u001b[0m\u001b[1;33m]\u001b[0m\u001b[1;33m,\u001b[0m \u001b[0mvn\u001b[0m\u001b[1;33m[\u001b[0m\u001b[1;36m1\u001b[0m\u001b[1;33m]\u001b[0m\u001b[1;33m)\u001b[0m\u001b[1;33m)\u001b[0m\u001b[1;33m-\u001b[0m\u001b[0mdarfunciones\u001b[0m\u001b[1;33m(\u001b[0m\u001b[0mrn_1\u001b[0m\u001b[1;33m[\u001b[0m\u001b[1;36m0\u001b[0m\u001b[1;33m]\u001b[0m\u001b[1;33m,\u001b[0m \u001b[0mrn_1\u001b[0m\u001b[1;33m[\u001b[0m\u001b[1;36m1\u001b[0m\u001b[1;33m]\u001b[0m\u001b[1;33m,\u001b[0m \u001b[0mvn_1\u001b[0m\u001b[1;33m[\u001b[0m\u001b[1;36m0\u001b[0m\u001b[1;33m]\u001b[0m\u001b[1;33m,\u001b[0m \u001b[0mvn_1\u001b[0m\u001b[1;33m[\u001b[0m\u001b[1;36m1\u001b[0m\u001b[1;33m]\u001b[0m\u001b[1;33m)\u001b[0m\u001b[1;33m)\u001b[0m\u001b[1;33m,\u001b[0m \u001b[1;33m(\u001b[0m\u001b[0mh\u001b[0m\u001b[1;33m**\u001b[0m\u001b[1;36m2\u001b[0m\u001b[1;33m)\u001b[0m\u001b[1;33m/\u001b[0m\u001b[1;36m6\u001b[0m\u001b[1;33m)\u001b[0m\u001b[1;33m)\u001b[0m\u001b[1;33m\u001b[0m\u001b[1;33m\u001b[0m\u001b[0m\n\u001b[0m\u001b[0;32m     12\u001b[0m     \u001b[0mvn1\u001b[0m \u001b[1;33m=\u001b[0m \u001b[0mvn\u001b[0m \u001b[1;33m+\u001b[0m \u001b[1;36m0.5\u001b[0m\u001b[1;33m*\u001b[0m\u001b[1;33m(\u001b[0m\u001b[1;33m(\u001b[0m\u001b[1;36m3\u001b[0m\u001b[1;33m*\u001b[0m\u001b[0mdarfunciones\u001b[0m\u001b[1;33m(\u001b[0m\u001b[0mrn\u001b[0m\u001b[1;33m[\u001b[0m\u001b[1;36m0\u001b[0m\u001b[1;33m]\u001b[0m\u001b[1;33m,\u001b[0m \u001b[0mrn\u001b[0m\u001b[1;33m[\u001b[0m\u001b[1;36m1\u001b[0m\u001b[1;33m]\u001b[0m\u001b[1;33m,\u001b[0m \u001b[0mvn\u001b[0m\u001b[1;33m[\u001b[0m\u001b[1;36m0\u001b[0m\u001b[1;33m]\u001b[0m\u001b[1;33m,\u001b[0m \u001b[0mvn\u001b[0m\u001b[1;33m[\u001b[0m\u001b[1;36m1\u001b[0m\u001b[1;33m]\u001b[0m\u001b[1;33m)\u001b[0m\u001b[1;33m)\u001b[0m\u001b[1;33m-\u001b[0m \u001b[0mdarfunciones\u001b[0m\u001b[1;33m(\u001b[0m\u001b[0mrn_1\u001b[0m\u001b[1;33m[\u001b[0m\u001b[1;36m0\u001b[0m\u001b[1;33m]\u001b[0m\u001b[1;33m,\u001b[0m \u001b[0mrn_1\u001b[0m\u001b[1;33m[\u001b[0m\u001b[1;36m1\u001b[0m\u001b[1;33m]\u001b[0m\u001b[1;33m,\u001b[0m \u001b[0mvn_1\u001b[0m\u001b[1;33m[\u001b[0m\u001b[1;36m0\u001b[0m\u001b[1;33m]\u001b[0m\u001b[1;33m,\u001b[0m \u001b[0mvn_1\u001b[0m\u001b[1;33m[\u001b[0m\u001b[1;36m1\u001b[0m\u001b[1;33m]\u001b[0m\u001b[1;33m)\u001b[0m\u001b[1;33m)\u001b[0m\u001b[1;33m\u001b[0m\u001b[1;33m\u001b[0m\u001b[0m\n\u001b[0;32m     13\u001b[0m \u001b[1;33m\u001b[0m\u001b[0m\n",
      "\u001b[1;31mTypeError\u001b[0m: can't multiply sequence by non-int of type 'float'"
     ]
    }
   ],
   "source": [
    "Solucion = darSol()"
   ]
  },
  {
   "cell_type": "code",
   "execution_count": 64,
   "id": "0d13f577",
   "metadata": {},
   "outputs": [
    {
     "ename": "NameError",
     "evalue": "name 'Solucion' is not defined",
     "output_type": "error",
     "traceback": [
      "\u001b[1;31m---------------------------------------------------------------------------\u001b[0m",
      "\u001b[1;31mNameError\u001b[0m                                 Traceback (most recent call last)",
      "\u001b[1;32mC:\\Users\\FABIOM~1\\AppData\\Local\\Temp/ipykernel_3008/871179257.py\u001b[0m in \u001b[0;36m<module>\u001b[1;34m\u001b[0m\n\u001b[0;32m     28\u001b[0m \u001b[1;33m\u001b[0m\u001b[0m\n\u001b[0;32m     29\u001b[0m \u001b[1;31m# Reduccion para las cordenadas\u001b[0m\u001b[1;33m\u001b[0m\u001b[1;33m\u001b[0m\u001b[0m\n\u001b[1;32m---> 30\u001b[1;33m \u001b[0mPosr_red\u001b[0m  \u001b[1;33m=\u001b[0m \u001b[0mRediccionPosicionesParaAnimacion\u001b[0m\u001b[1;33m(\u001b[0m\u001b[0mfac\u001b[0m\u001b[1;33m,\u001b[0m \u001b[0mSolucion\u001b[0m\u001b[1;33m[\u001b[0m\u001b[1;36m0\u001b[0m\u001b[1;33m]\u001b[0m\u001b[1;33m)\u001b[0m\u001b[1;33m\u001b[0m\u001b[1;33m\u001b[0m\u001b[0m\n\u001b[0m\u001b[0;32m     31\u001b[0m \u001b[0mPost_red\u001b[0m  \u001b[1;33m=\u001b[0m \u001b[0mRediccionPosicionesParaAnimacion\u001b[0m\u001b[1;33m(\u001b[0m\u001b[0mfac\u001b[0m\u001b[1;33m,\u001b[0m \u001b[0mSolucion\u001b[0m\u001b[1;33m[\u001b[0m\u001b[1;36m1\u001b[0m\u001b[1;33m]\u001b[0m\u001b[1;33m)\u001b[0m\u001b[1;33m\u001b[0m\u001b[1;33m\u001b[0m\u001b[0m\n\u001b[0;32m     32\u001b[0m \u001b[0mposvr_red\u001b[0m \u001b[1;33m=\u001b[0m \u001b[0mRediccionPosicionesParaAnimacion\u001b[0m\u001b[1;33m(\u001b[0m\u001b[0mfac\u001b[0m\u001b[1;33m,\u001b[0m \u001b[0mSolucion\u001b[0m\u001b[1;33m[\u001b[0m\u001b[1;36m2\u001b[0m\u001b[1;33m]\u001b[0m\u001b[1;33m)\u001b[0m\u001b[1;33m\u001b[0m\u001b[1;33m\u001b[0m\u001b[0m\n",
      "\u001b[1;31mNameError\u001b[0m: name 'Solucion' is not defined"
     ]
    }
   ],
   "source": [
    "def ReduceTime(t_, factor_):\n",
    "\n",
    "    nuevo_tiempo = np.array([])\n",
    "    \n",
    "    for i in range(len(t_)):\n",
    "        \n",
    "        if i%factor_ == 0:\n",
    "            nuevo_tiempo = np.append(nuevo_tiempo, t_[i])    \n",
    "    \n",
    "    return nuevo_tiempo\n",
    "\n",
    "def RediccionPosicionesParaAnimacion(factor_reduccion, variable_reducir): \n",
    "    \n",
    "    Var_reducida = np.array([])\n",
    "        \n",
    "    for i in range(1,len(variable_reducir)):\n",
    "            \n",
    "        if i%factor_reduccion == 0:\n",
    "            Var_reducida = np.append(Var_reducida, variable_reducir[i])\n",
    "    \n",
    "    return Var_reducida\n",
    "\n",
    "#Factor de reducción\n",
    "fac = 20\n",
    "\n",
    "# Reduccion para el tiempo\n",
    "tiemp_red = ReduceTime(t, fac)\n",
    "\n",
    "# Reduccion para las cordenadas \n",
    "Posr_red  = RediccionPosicionesParaAnimacion(fac, Solucion[0])\n",
    "Post_red  = RediccionPosicionesParaAnimacion(fac, Solucion[1])\n",
    "posvr_red = RediccionPosicionesParaAnimacion(fac, Solucion[2])\n",
    "posvt_red = RediccionPosicionesParaAnimacion(fac, Solucion[3])"
   ]
  }
 ],
 "metadata": {
  "kernelspec": {
   "display_name": "Python 3 (ipykernel)",
   "language": "python",
   "name": "python3"
  },
  "language_info": {
   "codemirror_mode": {
    "name": "ipython",
    "version": 3
   },
   "file_extension": ".py",
   "mimetype": "text/x-python",
   "name": "python",
   "nbconvert_exporter": "python",
   "pygments_lexer": "ipython3",
   "version": "3.9.7"
  }
 },
 "nbformat": 4,
 "nbformat_minor": 5
}
